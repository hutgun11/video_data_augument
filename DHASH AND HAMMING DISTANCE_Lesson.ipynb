{
 "cells": [
  {
   "cell_type": "code",
   "execution_count": 76,
   "metadata": {
    "ExecuteTime": {
     "end_time": "2020-06-02T08:51:50.289483Z",
     "start_time": "2020-06-02T08:51:50.258245Z"
    }
   },
   "outputs": [],
   "source": [
    "import numpy as np\n",
    "import matplotlib.pyplot as plt\n",
    "%matplotlib inline\n",
    "# import cv2\n",
    "from scipy.misc.pilutil import imread, imresize, imshow\n",
    "import cv2\n",
    "import os\n",
    "import time\n",
    "from hashlib import md5\n",
    "import scipy"
   ]
  },
  {
   "cell_type": "code",
   "execution_count": 77,
   "metadata": {
    "ExecuteTime": {
     "end_time": "2020-06-02T08:51:50.481147Z",
     "start_time": "2020-06-02T08:51:50.465543Z"
    }
   },
   "outputs": [
    {
     "data": {
      "text/plain": [
       "'E:\\\\pepsi_video_capture\\\\test1'"
      ]
     },
     "execution_count": 77,
     "metadata": {},
     "output_type": "execute_result"
    }
   ],
   "source": [
    "IMAGE_DIR = 'E:\\\\pepsi_video_capture\\\\test1\\\\'\n",
    "\n",
    "os.chdir(IMAGE_DIR)\n",
    "os.getcwd()\n"
   ]
  },
  {
   "cell_type": "code",
   "execution_count": 78,
   "metadata": {
    "ExecuteTime": {
     "end_time": "2020-06-02T08:51:50.636452Z",
     "start_time": "2020-06-02T08:51:50.620840Z"
    }
   },
   "outputs": [
    {
     "name": "stdout",
     "output_type": "stream",
     "text": [
      "438\n"
     ]
    }
   ],
   "source": [
    "image_files = os.listdir()\n",
    "print(len(image_files))"
   ]
  },
  {
   "cell_type": "code",
   "execution_count": 79,
   "metadata": {
    "ExecuteTime": {
     "end_time": "2020-06-02T08:51:50.828008Z",
     "start_time": "2020-06-02T08:51:50.812378Z"
    }
   },
   "outputs": [
    {
     "data": {
      "text/plain": [
       "'cola.png'"
      ]
     },
     "execution_count": 79,
     "metadata": {},
     "output_type": "execute_result"
    }
   ],
   "source": [
    "image_files[0]"
   ]
  },
  {
   "cell_type": "code",
   "execution_count": 80,
   "metadata": {
    "ExecuteTime": {
     "end_time": "2020-06-02T08:51:51.058372Z",
     "start_time": "2020-06-02T08:51:50.976533Z"
    }
   },
   "outputs": [
    {
     "name": "stderr",
     "output_type": "stream",
     "text": [
      "C:\\Users\\kasidit.k\\Anaconda3\\lib\\site-packages\\ipykernel_launcher.py:1: DeprecationWarning: `imread` is deprecated!\n",
      "`imread` is deprecated in SciPy 1.0.0, and will be removed in 1.2.0.\n",
      "Use ``imageio.imread`` instead.\n",
      "  \"\"\"Entry point for launching an IPython kernel.\n"
     ]
    },
    {
     "data": {
      "text/plain": [
       "3"
      ]
     },
     "execution_count": 80,
     "metadata": {},
     "output_type": "execute_result"
    }
   ],
   "source": [
    "imread(image_files[0]).shape[2]"
   ]
  },
  {
   "cell_type": "markdown",
   "metadata": {
    "collapsed": true
   },
   "source": [
    "### Helper Functions\n",
    "\n"
   ]
  },
  {
   "cell_type": "code",
   "execution_count": 81,
   "metadata": {
    "ExecuteTime": {
     "end_time": "2020-06-02T08:51:51.465638Z",
     "start_time": "2020-06-02T08:51:51.450013Z"
    }
   },
   "outputs": [],
   "source": [
    "def filter_images(images):\n",
    "    image_list = []\n",
    "    for image in images:\n",
    "        try:\n",
    "            assert imread(image).shape[2] == 3\n",
    "            image_list.append(image)\n",
    "        except  AssertionError as e:\n",
    "            print(e)\n",
    "    return image_list\n",
    "        "
   ]
  },
  {
   "cell_type": "code",
   "execution_count": 82,
   "metadata": {
    "ExecuteTime": {
     "end_time": "2020-06-02T08:51:52.056349Z",
     "start_time": "2020-06-02T08:51:52.040736Z"
    }
   },
   "outputs": [],
   "source": [
    "#First turn the image into a gray scale image\n",
    "\n",
    "\n",
    "def img_gray(image):\n",
    "    image = imread(image)\n",
    "    return np.average(image, weights=[0.299, 0.587, 0.114], axis=2)"
   ]
  },
  {
   "cell_type": "code",
   "execution_count": 83,
   "metadata": {
    "ExecuteTime": {
     "end_time": "2020-06-02T08:51:52.530611Z",
     "start_time": "2020-06-02T08:51:52.499437Z"
    }
   },
   "outputs": [],
   "source": [
    "#resize image and flatten\n",
    "def resize(image, height=30, width=30):\n",
    "    row_res = cv2.resize(image,(height, width), interpolation = cv2.INTER_AREA).flatten()\n",
    "    col_res = cv2.resize(image,(height, width), interpolation = cv2.INTER_AREA).flatten('F')\n",
    "    return row_res, col_res"
   ]
  },
  {
   "cell_type": "code",
   "execution_count": 84,
   "metadata": {
    "ExecuteTime": {
     "end_time": "2020-06-02T08:51:52.968171Z",
     "start_time": "2020-06-02T08:51:52.952566Z"
    }
   },
   "outputs": [],
   "source": [
    "#gradient direction based on intensity \n",
    "\n",
    "def intensity_diff(row_res, col_res):\n",
    "    difference_row = np.diff(row_res)\n",
    "    difference_col = np.diff(col_res)\n",
    "    difference_row = difference_row > 0\n",
    "    difference_col = difference_col > 0\n",
    "    return np.vstack((difference_row, difference_col)).flatten()\n",
    "    #return difference_row\n",
    "    #return np.vstack((difference_row, difference_col)) #str method"
   ]
  },
  {
   "cell_type": "code",
   "execution_count": 85,
   "metadata": {
    "ExecuteTime": {
     "end_time": "2020-06-02T08:51:53.145270Z",
     "start_time": "2020-06-02T08:51:53.139273Z"
    }
   },
   "outputs": [],
   "source": [
    "def file_hash(array):\n",
    "    return md5(array).hexdigest()\n",
    "    "
   ]
  },
  {
   "cell_type": "code",
   "execution_count": 86,
   "metadata": {
    "ExecuteTime": {
     "end_time": "2020-06-02T08:51:53.678381Z",
     "start_time": "2020-06-02T08:51:53.647120Z"
    }
   },
   "outputs": [],
   "source": [
    "def difference_score(image, height = 30, width = 30):\n",
    "    gray = img_gray(image)\n",
    "    row_res, col_res = resize(gray, height, width)\n",
    "    difference = intensity_diff(row_res, col_res)\n",
    "    \n",
    "    return difference"
   ]
  },
  {
   "cell_type": "code",
   "execution_count": 87,
   "metadata": {
    "ExecuteTime": {
     "end_time": "2020-06-02T08:51:54.150074Z",
     "start_time": "2020-06-02T08:51:54.144066Z"
    }
   },
   "outputs": [],
   "source": [
    "def difference_score_dict_hash(image_list):\n",
    "    ds_dict = {}\n",
    "    duplicates = []\n",
    "    hash_ds = []\n",
    "    for image in image_list:\n",
    "        ds = difference_score(image)\n",
    "        hash_ds.append(ds)\n",
    "        filehash = md5(ds).hexdigest()\n",
    "        if filehash not in ds_dict:\n",
    "            ds_dict[filehash] = image\n",
    "        else:\n",
    "            duplicates.append((image, ds_dict[filehash]) )\n",
    "    \n",
    "    return  duplicates, ds_dict, hash_ds\n",
    "\n"
   ]
  },
  {
   "cell_type": "code",
   "execution_count": 88,
   "metadata": {
    "ExecuteTime": {
     "end_time": "2020-06-02T08:53:12.577380Z",
     "start_time": "2020-06-02T08:51:54.745538Z"
    }
   },
   "outputs": [
    {
     "name": "stderr",
     "output_type": "stream",
     "text": [
      "C:\\Users\\kasidit.k\\Anaconda3\\lib\\site-packages\\ipykernel_launcher.py:5: DeprecationWarning: `imread` is deprecated!\n",
      "`imread` is deprecated in SciPy 1.0.0, and will be removed in 1.2.0.\n",
      "Use ``imageio.imread`` instead.\n",
      "  \"\"\"\n"
     ]
    }
   ],
   "source": [
    "image_files = filter_images(image_files)\n",
    "duplicates, ds_dict, hash_ds =difference_score_dict_hash(image_files)"
   ]
  },
  {
   "cell_type": "code",
   "execution_count": 89,
   "metadata": {
    "ExecuteTime": {
     "end_time": "2020-06-02T08:53:12.592993Z",
     "start_time": "2020-06-02T08:53:12.577380Z"
    }
   },
   "outputs": [
    {
     "data": {
      "text/plain": [
       "[('frame0.png', 'cola.png'), ('frame1.png', 'frame1 - Copy.png')]"
      ]
     },
     "execution_count": 89,
     "metadata": {},
     "output_type": "execute_result"
    }
   ],
   "source": [
    "duplicates"
   ]
  },
  {
   "cell_type": "code",
   "execution_count": 75,
   "metadata": {
    "ExecuteTime": {
     "end_time": "2020-06-02T08:45:07.858309Z",
     "start_time": "2020-06-02T08:45:07.051301Z"
    }
   },
   "outputs": [
    {
     "name": "stderr",
     "output_type": "stream",
     "text": [
      "C:\\Users\\kasidit.k\\Anaconda3\\lib\\site-packages\\ipykernel_launcher.py:4: DeprecationWarning: `imread` is deprecated!\n",
      "`imread` is deprecated in SciPy 1.0.0, and will be removed in 1.2.0.\n",
      "Use ``imageio.imread`` instead.\n",
      "  after removing the cwd from sys.path.\n",
      "C:\\Users\\kasidit.k\\Anaconda3\\lib\\site-packages\\ipykernel_launcher.py:7: DeprecationWarning: `imread` is deprecated!\n",
      "`imread` is deprecated in SciPy 1.0.0, and will be removed in 1.2.0.\n",
      "Use ``imageio.imread`` instead.\n",
      "  import sys\n"
     ]
    },
    {
     "data": {
      "image/png": "[encoded data removed]",
      "text/plain": [
       "<Figure size 432x288 with 2 Axes>"
      ]
     },
     "metadata": {},
     "output_type": "display_data"
    },
    {
     "data": {
      "image/png": "[encoded data removed]",
      "text/plain": [
       "<Figure size 432x288 with 2 Axes>"
      ]
     },
     "metadata": {},
     "output_type": "display_data"
    }
   ],
   "source": [
    "for file_names in duplicates[:30]:\n",
    "    try:\n",
    "    \n",
    "        plt.subplot(121),plt.imshow(imread(file_names[0]))\n",
    "        plt.title('Duplicate'), plt.xticks([]), plt.yticks([])\n",
    "\n",
    "        plt.subplot(122),plt.imshow(imread(file_names[1]))\n",
    "        plt.title('Original'), plt.xticks([]), plt.yticks([])\n",
    "        plt.show()\n",
    "    \n",
    "    except OSError as e:\n",
    "        continue"
   ]
  },
  {
   "cell_type": "code",
   "execution_count": 68,
   "metadata": {
    "ExecuteTime": {
     "end_time": "2020-06-02T08:38:25.850156Z",
     "start_time": "2020-06-02T08:38:25.834536Z"
    }
   },
   "outputs": [],
   "source": [
    "#Now Let's try Hamming distance"
   ]
  },
  {
   "cell_type": "code",
   "execution_count": 69,
   "metadata": {
    "ExecuteTime": {
     "end_time": "2020-06-02T08:38:26.181988Z",
     "start_time": "2020-06-02T08:38:26.150756Z"
    }
   },
   "outputs": [],
   "source": [
    "def hamming_distance(image, image2):\n",
    "    score =scipy.spatial.distance.hamming(image, image2)\n",
    "    return score"
   ]
  },
  {
   "cell_type": "code",
   "execution_count": 70,
   "metadata": {
    "ExecuteTime": {
     "end_time": "2020-06-02T08:38:26.561517Z",
     "start_time": "2020-06-02T08:38:26.545898Z"
    }
   },
   "outputs": [],
   "source": [
    "#Hamming\n",
    "\n",
    "def difference_score_dict(image_list):\n",
    "    ds_dict = {}\n",
    "    duplicates = []\n",
    "    for image in image_list:\n",
    "        ds = difference_score(image)\n",
    "        \n",
    "        if image not in ds_dict:\n",
    "            ds_dict[image] = ds\n",
    "        else:\n",
    "            duplicates.append((image, ds_dict[image]) )\n",
    "    \n",
    "    return  duplicates, ds_dict"
   ]
  },
  {
   "cell_type": "code",
   "execution_count": 71,
   "metadata": {
    "ExecuteTime": {
     "end_time": "2020-06-02T08:39:49.360763Z",
     "start_time": "2020-06-02T08:38:29.799496Z"
    }
   },
   "outputs": [
    {
     "name": "stderr",
     "output_type": "stream",
     "text": [
      "C:\\Users\\kasidit.k\\Anaconda3\\lib\\site-packages\\ipykernel_launcher.py:5: DeprecationWarning: `imread` is deprecated!\n",
      "`imread` is deprecated in SciPy 1.0.0, and will be removed in 1.2.0.\n",
      "Use ``imageio.imread`` instead.\n",
      "  \"\"\"\n"
     ]
    }
   ],
   "source": [
    "image_files = filter_images(image_files)\n",
    "duplicates, ds_dict =difference_score_dict(image_files)"
   ]
  },
  {
   "cell_type": "code",
   "execution_count": 72,
   "metadata": {
    "ExecuteTime": {
     "end_time": "2020-06-02T08:40:50.876986Z",
     "start_time": "2020-06-02T08:40:50.861364Z"
    }
   },
   "outputs": [
    {
     "data": {
      "text/plain": [
       "0"
      ]
     },
     "execution_count": 72,
     "metadata": {},
     "output_type": "execute_result"
    }
   ],
   "source": [
    "len(duplicates)"
   ]
  },
  {
   "cell_type": "code",
   "execution_count": 48,
   "metadata": {},
   "outputs": [
    {
     "data": {
      "text/plain": [
       "42"
      ]
     },
     "execution_count": 48,
     "metadata": {},
     "output_type": "execute_result"
    }
   ],
   "source": [
    "len(ds_dict.keys())"
   ]
  },
  {
   "cell_type": "code",
   "execution_count": 49,
   "metadata": {},
   "outputs": [],
   "source": [
    "import itertools\n",
    "for k1,k2 in itertools.combinations(ds_dict, 2):\n",
    "    if hamming_distance(ds_dict[k1], ds_dict[k2])< .10:\n",
    "        duplicates.append((k1,k2))"
   ]
  },
  {
   "cell_type": "code",
   "execution_count": 50,
   "metadata": {},
   "outputs": [
    {
     "data": {
      "text/plain": [
       "31"
      ]
     },
     "execution_count": 50,
     "metadata": {},
     "output_type": "execute_result"
    }
   ],
   "source": [
    "len(duplicates)"
   ]
  },
  {
   "cell_type": "code",
   "execution_count": null,
   "metadata": {
    "collapsed": true
   },
   "outputs": [],
   "source": [
    "for file_names in duplicates[:31]:\n",
    "    try:\n",
    "    \n",
    "        plt.subplot(121),plt.imshow(imread(file_names[0]))\n",
    "        plt.title('Duplicate'), plt.xticks([]), plt.yticks([])\n",
    "\n",
    "        plt.subplot(122),plt.imshow(imread(file_names[1]))\n",
    "        plt.title('Original'), plt.xticks([]), plt.yticks([])\n",
    "        plt.show()\n",
    "    \n",
    "    except OSError as e:\n",
    "        continue"
   ]
  },
  {
   "cell_type": "code",
   "execution_count": null,
   "metadata": {
    "collapsed": true
   },
   "outputs": [],
   "source": [
    "os.remove()  #If we wanted to remove them`"
   ]
  }
 ],
 "metadata": {
  "kernelspec": {
   "display_name": "Python 3",
   "language": "python",
   "name": "python3"
  },
  "language_info": {
   "codemirror_mode": {
    "name": "ipython",
    "version": 3
   },
   "file_extension": ".py",
   "mimetype": "text/x-python",
   "name": "python",
   "nbconvert_exporter": "python",
   "pygments_lexer": "ipython3",
   "version": "3.7.6"
  },
  "toc": {
   "base_numbering": 1,
   "nav_menu": {},
   "number_sections": true,
   "sideBar": true,
   "skip_h1_title": false,
   "title_cell": "Table of Contents",
   "title_sidebar": "Contents",
   "toc_cell": false,
   "toc_position": {},
   "toc_section_display": true,
   "toc_window_display": false
  }
 },
 "nbformat": 4,
 "nbformat_minor": 1
}
