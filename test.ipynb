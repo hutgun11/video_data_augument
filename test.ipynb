{
 "cells": [
  {
   "cell_type": "code",
   "execution_count": 40,
   "metadata": {
    "ExecuteTime": {
     "end_time": "2020-06-09T08:34:10.698627Z",
     "start_time": "2020-06-09T08:34:10.453615Z"
    }
   },
   "outputs": [
    {
     "name": "stdout",
     "output_type": "stream",
     "text": [
      "data/\n",
      "cam1_aquafina_bio\n",
      "cam1_aquafina_bio_dark\n",
      "cam1_aquafina_bio_dark_far\n",
      "cam1_aquafina_bio_far\n",
      "cam1_coke\n",
      "cam1_coke_dark\n",
      "cam1_coke_dark_far\n",
      "cam1_coke_far\n",
      "cam1_crystal\n",
      "cam1_crystal_dark\n",
      "cam1_crystal_dark_far\n",
      "cam1_pepsi\n",
      "cam1_pepsi_cream\n",
      "cam1_pepsi_cream_dark\n",
      "cam1_pepsi_cream_dark_far\n",
      "cam1_pepsi_cream_far\n",
      "cam1_pepsi_dark\n",
      "cam1_pepsi_dark_far\n",
      "cam1_pepsi_far\n",
      "cam1_pepsi_lym\n",
      "cam1_pepsi_lym_dark\n",
      "cam1_pepsi_lym_dark_far\n",
      "cam1_pepsi_lym_far\n",
      "cam1_yeti\n",
      "cam1_yeti_dark\n",
      "cam1_yeti_dark_far\n",
      "cam2_aquafina_bio\n",
      "cam2_aquafina_bio_dark\n",
      "cam2_aquafina_bio_dark_far\n",
      "cam2_aquafina_bio_far\n",
      "cam2_coke\n",
      "cam2_coke_dark\n",
      "cam2_coke_dark_far\n",
      "cam2_coke_far\n",
      "cam2_crystal\n",
      "cam2_crystal_dark\n",
      "cam2_crystal_dark_far\n",
      "cam2_pepsi\n",
      "cam2_pepsi_cream\n",
      "cam2_pepsi_cream_dark\n",
      "cam2_pepsi_cream_dark_far\n",
      "cam2_pepsi_cream_far\n",
      "cam2_pepsi_dark\n",
      "cam2_pepsi_dark_far\n",
      "cam2_pepsi_far\n",
      "cam2_pepsi_lym\n",
      "cam2_pepsi_lym_dark\n",
      "cam2_pepsi_lym_dark_far\n",
      "cam2_pepsi_lym_far\n",
      "cam2_yeti\n",
      "cam2_yeti_dark_far\n"
     ]
    }
   ],
   "source": [
    "import xml.etree.ElementTree as ET\n",
    "import os\n",
    "import shutil\n",
    "import json\n",
    "import fnmatch\n",
    "\n",
    "import cv2\n",
    "path =r'data/'\n",
    "li=[]\n",
    "for subdir,dirs,files in os.walk(path):        \n",
    "        test=subdir.replace('data/data_','')\n",
    "#         test=test.replace('data/data','')\n",
    "#         test=subdir.replace('data/','')\n",
    "        print(test)\n",
    "        li.append(test)\n",
    "del li[0]\n",
    "for name in li :\n",
    "    name_product=name\n",
    "    rootdir=r'data/data_'+name_product+'/'\n",
    "    for subdir,dirs,files in os.walk(rootdir):\n",
    "        for file in files:\n",
    "            if fnmatch.fnmatch(file, '*.xml'):\n",
    "                file_path=os.path.join(subdir,file)\n",
    "                tree = ET.parse(file_path)\n",
    "                root = tree.getroot()\n",
    "                for elem in root:\n",
    "                    if elem.tag == 'filename':\n",
    "                        elem.text = file.replace('.xml','')+'.jpg'\n",
    "                tree.write(file_path, xml_declaration=True)\n",
    "    for subdir,dirs,files in os.walk(rootdir):\n",
    "        for file in files:\n",
    "            if fnmatch.fnmatch(file, '*.jpg'):\n",
    "                file_path_jpg=os.path.join(subdir,file)\n",
    "                path_write=file_path_jpg.replace('.jpg','')+'.xml'\n",
    "                print(path_write)\n",
    "                tree.write(path_write, xml_declaration=True)\n",
    "    for subdir,dirs,files in os.walk(rootdir):\n",
    "        for file in files:\n",
    "            if fnmatch.fnmatch(file, '*.xml'):\n",
    "                file_path_xml=os.path.join(subdir,file)\n",
    "                tree2 = ET.parse(file_path_xml)\n",
    "                root2 = tree2.getroot()\n",
    "                for elem2 in root2:\n",
    "                    if elem2.tag == 'filename':\n",
    "                        elem2.text = file.replace('.xml','')+'.jpg'\n",
    "                tree2.write(file_path_xml, xml_declaration=True)\n",
    "\n"
   ]
  },
  {
   "cell_type": "code",
   "execution_count": 31,
   "metadata": {
    "ExecuteTime": {
     "end_time": "2020-06-09T08:24:33.244423Z",
     "start_time": "2020-06-09T08:24:33.228801Z"
    }
   },
   "outputs": [
    {
     "data": {
      "text/plain": [
       "56"
      ]
     },
     "execution_count": 31,
     "metadata": {},
     "output_type": "execute_result"
    }
   ],
   "source": []
  },
  {
   "cell_type": "code",
   "execution_count": null,
   "metadata": {},
   "outputs": [],
   "source": []
  }
 ],
 "metadata": {
  "kernelspec": {
   "display_name": "Python 3",
   "language": "python",
   "name": "python3"
  },
  "language_info": {
   "codemirror_mode": {
    "name": "ipython",
    "version": 3
   },
   "file_extension": ".py",
   "mimetype": "text/x-python",
   "name": "python",
   "nbconvert_exporter": "python",
   "pygments_lexer": "ipython3",
   "version": "3.7.6"
  },
  "toc": {
   "base_numbering": 1,
   "nav_menu": {},
   "number_sections": true,
   "sideBar": true,
   "skip_h1_title": false,
   "title_cell": "Table of Contents",
   "title_sidebar": "Contents",
   "toc_cell": false,
   "toc_position": {},
   "toc_section_display": true,
   "toc_window_display": false
  }
 },
 "nbformat": 4,
 "nbformat_minor": 4
}
